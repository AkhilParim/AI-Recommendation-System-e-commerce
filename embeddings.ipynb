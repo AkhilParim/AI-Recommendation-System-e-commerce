{
 "cells": [
  {
   "cell_type": "markdown",
   "metadata": {},
   "source": [
    "### Embedding the data into Qdrant Vector Store"
   ]
  },
  {
   "cell_type": "code",
   "execution_count": null,
   "metadata": {},
   "outputs": [],
   "source": [
    "%pip install -qU langchain-qdrant\n",
    "%pip install langchain_openai\n",
    "%pip install qdrant-client\n",
    "%pip install langchain\n",
    "%pip install langchain-community"
   ]
  },
  {
   "cell_type": "code",
   "execution_count": null,
   "metadata": {},
   "outputs": [],
   "source": [
    "from langchain.document_loaders import CSVLoader\n",
    "from langchain_community.document_loaders import TextLoader\n",
    "from langchain_qdrant import QdrantVectorStore, FastEmbedSparse, RetrievalMode\n",
    "from langchain_text_splitters import RecursiveCharacterTextSplitter\n",
    "from langchain_openai import OpenAIEmbeddings\n",
    "\n",
    "import os\n",
    "from dotenv import load_dotenv\n",
    "\n",
    "load_dotenv()\n"
   ]
  },
  {
   "cell_type": "code",
   "execution_count": null,
   "metadata": {},
   "outputs": [],
   "source": [
    "loader = CSVLoader('Mens Fashion.csv')\n",
    "data = loader.load()"
   ]
  },
  {
   "cell_type": "code",
   "execution_count": 5,
   "metadata": {},
   "outputs": [],
   "source": [
    "vector_embeddings = OpenAIEmbeddings(api_key=os.getenv(\"OPENAI_API_KEY\"),\n",
    "                                    model=\"text-embedding-3-large\")\n",
    "\n",
    "qdrant_url = os.getenv(\"QDRANT_URL\")\n",
    "qdrant_api_key = os.getenv(\"QDRANT_API_KEY\")"
   ]
  },
  {
   "cell_type": "markdown",
   "metadata": {},
   "source": [
    "Inserting data into Qdrant"
   ]
  },
  {
   "cell_type": "code",
   "execution_count": 11,
   "metadata": {},
   "outputs": [],
   "source": [
    "qdrant = QdrantVectorStore.from_documents(\n",
    "    data,\n",
    "    vector_embeddings,\n",
    "    url=qdrant_url,\n",
    "    collection_name=\"e-commerce AI Recommendation System\",\n",
    "    prefer_grpc=True,\n",
    "    api_key=qdrant_api_key,\n",
    ")"
   ]
  },
  {
   "cell_type": "markdown",
   "metadata": {},
   "source": [
    "Example"
   ]
  },
  {
   "cell_type": "code",
   "execution_count": 8,
   "metadata": {},
   "outputs": [
    {
     "data": {
      "text/plain": [
       "[Document(metadata={'source': 'Mens Fashion.csv', 'row': 5272, '_id': '06cd77b0-b037-444b-b460-3596a6c4e9fd', '_collection_name': 'e-commerce AI Recommendation System'}, page_content=\"name: Campus Sutra Men’s Classic Blue Dark-Washed Distressed Regular Fit Denim Jeans for Casual Wear | Mid-Rise Stretchable Cott...\\nmain_category: stores\\nsub_category: Men's Fashion\\nimage: https://m.media-amazon.com/images/I/51PAjY776nL._AC_UL320_.jpg\\nlink: https://www.amazon.in/Campus-Sutra-Denim-Jeans-AZ18JN_Knees_M_PLN_LBU_AZ_32/dp/B085GBNQQW/ref=sr_1_5281?qid=1679150909&s=apparel&sr=1-5281\\nratings: 3.5\\nno_of_ratings: 536\\ndiscount_price: ₹645\\nactual_price: ₹1,699\"),\n",
       " Document(metadata={'source': 'Mens Fashion.csv', 'row': 5345, '_id': '1149c0fc-f558-47f7-9fb3-757fb0ccdb80', '_collection_name': 'e-commerce AI Recommendation System'}, page_content=\"name: Levi's Men's 517 Bootcut Jeans\\nmain_category: stores\\nsub_category: Men's Fashion\\nimage: https://m.media-amazon.com/images/I/71OQvqwwxML._AC_UL320_.jpg\\nlink: https://www.amazon.in/Levis-Loose-Jeans-16382-0042_Dark-Indigo_34/dp/B09PVP4CCR/ref=sr_1_5354?qid=1679150914&s=apparel&sr=1-5354\\nratings: 3.8\\nno_of_ratings: 175\\ndiscount_price: ₹1,479\\nactual_price: ₹3,699\"),\n",
       " Document(metadata={'row': 5611, 'source': 'Mens Fashion.csv', '_id': '27510e8b-4051-43fa-a4b2-c138637bba85', '_collection_name': 'e-commerce AI Recommendation System'}, page_content=\"name: Campus Sutra Men's Regular Fit Denim Jeans\\nmain_category: stores\\nsub_category: Men's Fashion\\nimage: https://m.media-amazon.com/images/I/51PAjY776nL._AC_UL320_.jpg\\nlink: https://www.amazon.in/Campus-Sutra-Mens-Jeans-AZ18JN_Knees_M_PLN_AZ_Blue_32W/dp/B07MNG8BNW/ref=sr_1_5620_mod_primary_new?qid=1679150924&s=apparel&sbo=RZvfv%2F%2FHxDF%2BO5021pAnSA%3D%3D&sr=1-5620\\nratings: 3.3\\nno_of_ratings: 1,571\\ndiscount_price: ₹645\\nactual_price: ₹1,699\"),\n",
       " Document(metadata={'source': 'Mens Fashion.csv', 'row': 13030, '_id': 'd0ff467f-58b5-4ed5-82e5-16351c49435e', '_collection_name': 'e-commerce AI Recommendation System'}, page_content=\"name: Levi's Men Jeans\\nmain_category: stores\\nsub_category: Men's Fashion\\nimage: https://m.media-amazon.com/images/I/516EkwXEdzL._AC_UL320_.jpg\\nlink: https://www.amazon.in/Levis-Mens-Jeans-16382-0058_Light-Indigo_36/dp/B0B4SVL22T/ref=sr_1_13039?qid=1679151305&s=apparel&sr=1-13039\\nratings: 3.9\\nno_of_ratings: 5\\ndiscount_price: ₹2,050\\nactual_price: ₹4,399\")]"
      ]
     },
     "execution_count": 8,
     "metadata": {},
     "output_type": "execute_result"
    }
   ],
   "source": [
    "products = qdrant.similarity_search(\"Blue Jeans\", k=4)\n",
    "products"
   ]
  }
 ],
 "metadata": {
  "kernelspec": {
   "display_name": "venv",
   "language": "python",
   "name": "python3"
  },
  "language_info": {
   "codemirror_mode": {
    "name": "ipython",
    "version": 3
   },
   "file_extension": ".py",
   "mimetype": "text/x-python",
   "name": "python",
   "nbconvert_exporter": "python",
   "pygments_lexer": "ipython3",
   "version": "3.13.1"
  }
 },
 "nbformat": 4,
 "nbformat_minor": 2
}
